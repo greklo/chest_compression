{
 "cells": [
  {
   "cell_type": "markdown",
   "metadata": {},
   "source": [
    "# The purpose of this notebook is to analyze and make predictions using chest compression data"
   ]
  },
  {
   "cell_type": "code",
   "execution_count": 1,
   "metadata": {},
   "outputs": [],
   "source": [
    "import pandas as pd\n",
    "import numpy as np"
   ]
  },
  {
   "cell_type": "code",
   "execution_count": 4,
   "metadata": {},
   "outputs": [
    {
     "name": "stdout",
     "output_type": "stream",
     "text": [
      "(57074, 5)\n",
      "(14269, 5)\n",
      "(9704, 5)\n",
      "(14124, 5)\n"
     ]
    }
   ],
   "source": [
    "# Load data\n",
    "df_mat = pd.read_csv('data/air_mat_comp_600.csv')\n",
    "print(df_mat.shape)\n",
    "df_pil = pd.read_csv('data/Pillow-CPR.csv')\n",
    "print(df_pil.shape)\n",
    "df_ted = pd.read_csv('data/TeddyBear-CPR.csv')\n",
    "print(df_ted.shape)\n",
    "df_reed = pd.read_csv('data/Raw_Data.csv')\n",
    "print(df_reed.shape)"
   ]
  },
  {
   "cell_type": "code",
   "execution_count": null,
   "metadata": {},
   "outputs": [],
   "source": []
  }
 ],
 "metadata": {
  "kernelspec": {
   "display_name": "Python 3",
   "language": "python",
   "name": "python3"
  },
  "language_info": {
   "codemirror_mode": {
    "name": "ipython",
    "version": 3
   },
   "file_extension": ".py",
   "mimetype": "text/x-python",
   "name": "python",
   "nbconvert_exporter": "python",
   "pygments_lexer": "ipython3",
   "version": "3.6.3"
  }
 },
 "nbformat": 4,
 "nbformat_minor": 4
}
