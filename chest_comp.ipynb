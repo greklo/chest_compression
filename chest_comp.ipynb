{
 "cells": [
  {
   "cell_type": "markdown",
   "metadata": {},
   "source": [
    "# The purpose of this notebook is to analyze and make predictions using chest compression data"
   ]
  },
  {
   "cell_type": "code",
   "execution_count": null,
   "metadata": {},
   "outputs": [],
   "source": [
    "import pandas as pd\n",
    "import numpy as np\n",
    "\n",
    "import matplotlib\n",
    "%matplotlib inline\n",
    "import matplotlib.pyplot as plt\n",
    "\n",
    "from scipy import signal"
   ]
  },
  {
   "cell_type": "code",
   "execution_count": null,
   "metadata": {},
   "outputs": [],
   "source": [
    "# Load data\n",
    "df_mat = pd.read_csv('data/air_mat_comp_600.csv')\n",
    "print(df_mat.shape)\n",
    "dfg_pil = pd.read_csv('data/Pillow-CPR.csv')\n",
    "print(dfg_pil.shape)\n",
    "dfg_ted = pd.read_csv('data/TeddyBear-CPR.csv')\n",
    "print(dfg_ted.shape)\n",
    "dfr_pil = pd.read_csv('data/pillow_reed.csv')\n",
    "print(dfr_pil.shape)\n",
    "dfr_ted = pd.read_csv('data/teddy_reed.csv')\n",
    "print(dfr_ted.shape)"
   ]
  },
  {
   "cell_type": "markdown",
   "metadata": {},
   "source": [
    "## Absolute truth: Number of compressions per data set\n",
    "- Mattress ------> 600 (30 per set)\n",
    "- Pillow George -> 150 (30 per set)\n",
    "- Pillow Reed ---> 150 (30 per set)\n",
    "- Teddy George --> 90 (30 per set) *** QUESTIONABLE\n",
    "- Teddy Reed ----> 150 (30 per set)\n",
    "\n",
    "#### Total: 1,140"
   ]
  },
  {
   "cell_type": "markdown",
   "metadata": {},
   "source": [
    "### Add labels to each of the dataframes to indicate their compression object"
   ]
  },
  {
   "cell_type": "code",
   "execution_count": null,
   "metadata": {},
   "outputs": [],
   "source": [
    "df_mat['object'] = \"mattress\"\n",
    "dfg_pil['object'] = \"pillow_george\"\n",
    "dfg_ted['object'] = \"teddy_george\"\n",
    "dfr_pil['object'] = \"pillow_reed\"\n",
    "dfr_ted['object'] = \"teddy_reed\""
   ]
  },
  {
   "cell_type": "code",
   "execution_count": null,
   "metadata": {},
   "outputs": [],
   "source": [
    "# Rename columns in df_mat\n",
    "df_mat = df_mat.rename(columns={'Linear Acceleration x (m/s^2)': 'Acceleration x (m/s^2)',\\\n",
    "                                'Linear Acceleration y (m/s^2)': 'Acceleration y (m/s^2)',\\\n",
    "                                'Linear Acceleration z (m/s^2)': 'Acceleration z (m/s^2)'}) "
   ]
  },
  {
   "cell_type": "markdown",
   "metadata": {},
   "source": [
    "### Create time delta column"
   ]
  },
  {
   "cell_type": "code",
   "execution_count": null,
   "metadata": {},
   "outputs": [],
   "source": [
    "def time_delta(data):\n",
    "    data['prev_time'] = data['Time (s)'].shift(1)\n",
    "    data['time_delta'] = data['Time (s)'] - data['prev_time']\n",
    "    return data"
   ]
  },
  {
   "cell_type": "code",
   "execution_count": null,
   "metadata": {},
   "outputs": [],
   "source": [
    "df_mat = time_delta(df_mat)\n",
    "dfg_pil = time_delta(dfg_pil)\n",
    "dfg_ted = time_delta(dfg_ted)\n",
    "dfr_pil = time_delta(dfr_pil)\n",
    "dfr_ted = time_delta(dfr_ted)"
   ]
  },
  {
   "cell_type": "code",
   "execution_count": null,
   "metadata": {},
   "outputs": [],
   "source": [
    "dfg_pil.head()"
   ]
  },
  {
   "cell_type": "code",
   "execution_count": null,
   "metadata": {},
   "outputs": [],
   "source": [
    "# Reed teddy\n",
    "dfr_ted.plot( 'Time (s)' , 'Absolute acceleration (m/s^2)')\n",
    "plt.title(\"Teddy Reed Compressions over Time\")"
   ]
  },
  {
   "cell_type": "code",
   "execution_count": null,
   "metadata": {},
   "outputs": [],
   "source": [
    "# Clean pillow reed\n",
    "dfr_pil[150:-500].plot( 'Time (s)' , 'Absolute acceleration (m/s^2)')"
   ]
  },
  {
   "cell_type": "code",
   "execution_count": null,
   "metadata": {},
   "outputs": [],
   "source": [
    "# Cut rows\n",
    "dfr_pil = dfr_pil[150:-500]"
   ]
  },
  {
   "cell_type": "code",
   "execution_count": null,
   "metadata": {},
   "outputs": [],
   "source": [
    "# Clean teddy Reed\n",
    "dfr_ted[150:-1800].plot( 'Time (s)' , 'Absolute acceleration (m/s^2)')"
   ]
  },
  {
   "cell_type": "code",
   "execution_count": null,
   "metadata": {},
   "outputs": [],
   "source": [
    "dfr_ted = dfr_ted[150:-1800]"
   ]
  },
  {
   "cell_type": "markdown",
   "metadata": {},
   "source": [
    "### Stack all dataframes"
   ]
  },
  {
   "cell_type": "code",
   "execution_count": null,
   "metadata": {},
   "outputs": [],
   "source": [
    "print(\"expected row count:\",df_mat.shape[0] + \n",
    "                            dfg_pil.shape[0] +\n",
    "                            dfg_ted.shape[0] +\n",
    "                            dfr_pil.shape[0] +\n",
    "                            dfr_ted.shape[0])\n",
    "df = pd.concat([df_mat,dfg_pil,dfg_ted,dfr_pil,dfr_ted], ignore_index=True,sort=False)\n",
    "print('actual row count  :',df.shape[0])"
   ]
  },
  {
   "cell_type": "code",
   "execution_count": null,
   "metadata": {},
   "outputs": [],
   "source": [
    "df.info()"
   ]
  },
  {
   "cell_type": "markdown",
   "metadata": {},
   "source": [
    "### Plot data:\n",
    "- Are peaks easy to visualize?"
   ]
  },
  {
   "cell_type": "code",
   "execution_count": null,
   "metadata": {},
   "outputs": [],
   "source": [
    "# df[df['object'] == 'mattress'].plot(x='Time (s)', y=['Acceleration x (m/s^2)', \n",
    "#                                                      'Acceleration y (m/s^2)',\n",
    "#                                                      'Acceleration z (m/s^2)', \n",
    "#                                                      'Absolute acceleration (m/s^2)'], kind=\"bar\", figsize=(9, 8))"
   ]
  },
  {
   "cell_type": "code",
   "execution_count": null,
   "metadata": {},
   "outputs": [],
   "source": [
    "# Mattress\n",
    "df[df['object'] == 'mattress'].plot( 'Time (s)' , 'Absolute acceleration (m/s^2)')\n",
    "#df[df['object'] == 'mattress'].plot( 'Time (s)' , 'Acceleration x (m/s^2)')\n",
    "#df[df['object'] == 'mattress'].plot( 'Time (s)' , 'Acceleration y (m/s^2)')\n",
    "#df[df['object'] == 'mattress'].plot( 'Time (s)' , 'Acceleration z (m/s^2)')\n",
    "plt.title(\"Mattress Magnitude over Time\")\n",
    "plt.show()"
   ]
  },
  {
   "cell_type": "code",
   "execution_count": null,
   "metadata": {},
   "outputs": [],
   "source": [
    "# George pillow\n",
    "df[df['object'] == 'pillow_george'].plot( 'Time (s)' , 'Absolute acceleration (m/s^2)')\n",
    "plt.title(\"Pillow George Compressions over Time\")"
   ]
  },
  {
   "cell_type": "code",
   "execution_count": null,
   "metadata": {},
   "outputs": [],
   "source": [
    "# George teddy\n",
    "df[df['object'] == 'teddy_george'].plot( 'Time (s)' , 'Absolute acceleration (m/s^2)')\n",
    "plt.title(\"Teddy George Magnitude Over Time\")\n",
    "plt.show()"
   ]
  },
  {
   "cell_type": "code",
   "execution_count": null,
   "metadata": {},
   "outputs": [],
   "source": [
    "# Reed pillow\n",
    "df[df['object'] == 'pillow_reed'][105:].plot( 'Time (s)' , 'Absolute acceleration (m/s^2)')\n",
    "plt.title(\"Pillow Reed Magnitude over Time\")\n",
    "plt.show()"
   ]
  },
  {
   "cell_type": "code",
   "execution_count": null,
   "metadata": {},
   "outputs": [],
   "source": [
    "# Reed teddy\n",
    "df[df['object'] == 'teddy_reed'].plot( 'Time (s)' , 'Absolute acceleration (m/s^2)')\n",
    "plt.title(\"Teddy Reed Compressions over Time\")"
   ]
  },
  {
   "cell_type": "markdown",
   "metadata": {},
   "source": [
    "## Notes: \n",
    "- All compression data seems to be well spaced\n",
    "- George Teddy data seems to be 90 compressions\n",
    "    - Confirm with George"
   ]
  },
  {
   "cell_type": "markdown",
   "metadata": {},
   "source": [
    "### Create the following:\n",
    "- Half second increment column\n",
    "  - Ascneding in value\n",
    "- Rolling std\n",
    "  - std across half second increment blocks"
   ]
  },
  {
   "cell_type": "code",
   "execution_count": null,
   "metadata": {},
   "outputs": [],
   "source": [
    "df.head()"
   ]
  },
  {
   "cell_type": "code",
   "execution_count": null,
   "metadata": {},
   "outputs": [],
   "source": [
    "# Roughly how many rows in .1 seconds?\n",
    "df['time_delta'].head(11).sum()"
   ]
  },
  {
   "cell_type": "code",
   "execution_count": null,
   "metadata": {},
   "outputs": [],
   "source": [
    "# A compression may occur in a fraction of a second\n",
    "# Take the rolling std for every ten rows\n",
    "#df['rolling_stdev'] = df.groupby('object')['Absolute acceleration (m/s^2)'].rolling(10).std()\n",
    "df['rolling_stdev'] = df.groupby('object')['Absolute acceleration (m/s^2)']\\\n",
    "                        .transform(lambda s: s.rolling(10).std())"
   ]
  },
  {
   "cell_type": "code",
   "execution_count": null,
   "metadata": {},
   "outputs": [],
   "source": [
    "df.head(20)"
   ]
  },
  {
   "cell_type": "code",
   "execution_count": null,
   "metadata": {},
   "outputs": [],
   "source": [
    "df[df['object'] == 'mattress'].plot( 'Time (s)' , 'rolling_stdev')\n",
    "plt.title(\"Mattress: Rolling Standard Dev over Time\")"
   ]
  },
  {
   "cell_type": "code",
   "execution_count": null,
   "metadata": {},
   "outputs": [],
   "source": [
    "df[df['object'] == 'pillow_george'].plot( 'Time (s)' , 'rolling_stdev')\n",
    "plt.title(\"Pillow George: Rolling Standard Dev over Time\")"
   ]
  },
  {
   "cell_type": "code",
   "execution_count": null,
   "metadata": {},
   "outputs": [],
   "source": [
    "# Max and min rolling stdev\n",
    "print(df['rolling_stdev'].min(), '-', df['rolling_stdev'].max())"
   ]
  },
  {
   "cell_type": "markdown",
   "metadata": {},
   "source": [
    "### Use thresholding to label data\n",
    "- Total 1,140 compressions"
   ]
  },
  {
   "cell_type": "code",
   "execution_count": null,
   "metadata": {},
   "outputs": [],
   "source": [
    "# Define a function that calculates the threshold for the number of compressions\n",
    "def find_compression_threshold(data, object_name, true_compression_count):\n",
    "    \"\"\"\n",
    "    This function finds the threshold for the absolute acceleration that best matches the true number of compressions.\n",
    "    \n",
    "    Parameters:\n",
    "    data (DataFrame): The dataframe containing the sensor data.\n",
    "    object_name (str): The name of the object on which compressions were performed.\n",
    "    true_compression_count (int): The actual number of compressions performed on the object.\n",
    "    \n",
    "    Returns:\n",
    "    float: The threshold of absolute acceleration that best matches the true compression count.\n",
    "    \"\"\"\n",
    "    \n",
    "    # Filter data for the specific object\n",
    "    object_data = data[data['object'] == object_name]\n",
    "    \n",
    "    # Initialize variables\n",
    "    best_threshold = None\n",
    "    best_count_diff = np.inf\n",
    "    \n",
    "    # Iterate over a range of possible thresholds to find the best one\n",
    "    for threshold in np.linspace(object_data['Absolute acceleration (m/s^2)'].min(),\n",
    "                                 object_data['Absolute acceleration (m/s^2)'].max(),\n",
    "                                 num=4000):  # num can be set to a different number for finer/coarser search\n",
    "        \n",
    "        # Count the number of times the acceleration goes above the threshold\n",
    "        count = (object_data['Absolute acceleration (m/s^2)'] > threshold).sum()\n",
    "        \n",
    "        # Find the difference between the counted compressions and the true compressions\n",
    "        count_diff = abs(count - true_compression_count)\n",
    "        \n",
    "        # Update the best threshold if this threshold is closer to the true compression count\n",
    "        if count_diff < best_count_diff:\n",
    "            best_count_diff = count_diff\n",
    "            best_threshold = threshold\n",
    "            \n",
    "    return best_threshold"
   ]
  },
  {
   "cell_type": "code",
   "execution_count": null,
   "metadata": {},
   "outputs": [],
   "source": [
    "# Create a dictionary of object and compression counts\n",
    "object_comp_dct = {'mattress':600,\\\n",
    "                   'pillow_george':150,\\\n",
    "                   'teddy_george':90,\\\n",
    "                   'pillow_reed':150,\\\n",
    "                   'teddy_reed':150}"
   ]
  },
  {
   "cell_type": "code",
   "execution_count": null,
   "metadata": {},
   "outputs": [],
   "source": [
    "# Test the function for one object to see if it works as expected\n",
    "comp_dict = {}\n",
    "for obj,val in object_comp_dct.items():\n",
    "    test_object_name = obj\n",
    "    test_true_compression_count = val\n",
    "    #print('{} threshold:'.format(obj), find_compression_threshold(df, obj, val))\n",
    "    comp_dict[obj] = find_compression_threshold(df, obj, val)"
   ]
  },
  {
   "cell_type": "code",
   "execution_count": null,
   "metadata": {},
   "outputs": [],
   "source": [
    "comp_dict"
   ]
  },
  {
   "cell_type": "code",
   "execution_count": null,
   "metadata": {},
   "outputs": [],
   "source": [
    "# First create a label column, set them all to 0\n",
    "df['is_compression'] = 0\n",
    "# Using the threshold above, create compression labels in the dataframe\n",
    "for obj,val in comp_dict.items():\n",
    "    df['is_compression'] = np.where((df['object'] == obj) & \\\n",
    "                                    (df['Absolute acceleration (m/s^2)'] > val),1,df['is_compression'])"
   ]
  },
  {
   "cell_type": "code",
   "execution_count": null,
   "metadata": {},
   "outputs": [],
   "source": [
    "df['is_compression'].sum()"
   ]
  },
  {
   "cell_type": "markdown",
   "metadata": {},
   "source": [
    "### Export data to csv"
   ]
  },
  {
   "cell_type": "code",
   "execution_count": null,
   "metadata": {},
   "outputs": [],
   "source": [
    "df.to_csv('data/labeled_comp.csv',index=False)"
   ]
  },
  {
   "cell_type": "code",
   "execution_count": null,
   "metadata": {},
   "outputs": [],
   "source": [
    "#df[(df['object']=='teddy_reed')&(df['Absolute acceleration (m/s^2)'] > 16.14450353764216)].shape"
   ]
  },
  {
   "cell_type": "markdown",
   "metadata": {},
   "source": [
    "### 4.7285 is the threshold for all objects at which we get 1,140 compressions\n",
    "- But what is the threshold for just the mattress?"
   ]
  },
  {
   "cell_type": "markdown",
   "metadata": {},
   "source": [
    "### Thresholding methodology doesn't work across objects\n",
    "- Matress threshold:\n",
    "- Pillow Reed:\n",
    "- Teddy Reed:"
   ]
  },
  {
   "cell_type": "code",
   "execution_count": null,
   "metadata": {},
   "outputs": [],
   "source": []
  },
  {
   "cell_type": "code",
   "execution_count": null,
   "metadata": {},
   "outputs": [],
   "source": [
    "from sklearn.ensemble import RandomForestClassifier"
   ]
  },
  {
   "cell_type": "code",
   "execution_count": null,
   "metadata": {},
   "outputs": [],
   "source": [
    "#df[df['object'] == 'mattress'].head()"
   ]
  },
  {
   "cell_type": "code",
   "execution_count": null,
   "metadata": {},
   "outputs": [],
   "source": []
  }
 ],
 "metadata": {
  "kernelspec": {
   "display_name": "Python 3",
   "language": "python",
   "name": "python3"
  },
  "language_info": {
   "codemirror_mode": {
    "name": "ipython",
    "version": 3
   },
   "file_extension": ".py",
   "mimetype": "text/x-python",
   "name": "python",
   "nbconvert_exporter": "python",
   "pygments_lexer": "ipython3",
   "version": "3.6.3"
  }
 },
 "nbformat": 4,
 "nbformat_minor": 4
}
