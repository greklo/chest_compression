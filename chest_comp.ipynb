{
 "cells": [
  {
   "cell_type": "markdown",
   "metadata": {},
   "source": [
    "# The purpose of this notebook is to analyze and make predictions using chest compression data"
   ]
  },
  {
   "cell_type": "code",
   "execution_count": 19,
   "metadata": {},
   "outputs": [],
   "source": [
    "import pandas as pd\n",
    "import numpy as np\n",
    "\n",
    "import matplotlib\n",
    "%matplotlib inline\n",
    "import matplotlib.pyplot as plt\n",
    "\n",
    "from scipy import signal"
   ]
  },
  {
   "cell_type": "code",
   "execution_count": 2,
   "metadata": {},
   "outputs": [
    {
     "name": "stdout",
     "output_type": "stream",
     "text": [
      "(57074, 5)\n",
      "(14269, 5)\n",
      "(9704, 5)\n",
      "(14124, 5)\n",
      "(14160, 5)\n"
     ]
    }
   ],
   "source": [
    "# Load data\n",
    "df_mat = pd.read_csv('data/air_mat_comp_600.csv')\n",
    "print(df_mat.shape)\n",
    "dfg_pil = pd.read_csv('data/Pillow-CPR.csv')\n",
    "print(dfg_pil.shape)\n",
    "dfg_ted = pd.read_csv('data/TeddyBear-CPR.csv')\n",
    "print(dfg_ted.shape)\n",
    "dfr_pil = pd.read_csv('data/pillow_reed.csv')\n",
    "print(dfr_pil.shape)\n",
    "dfr_ted = pd.read_csv('data/teddy_reed.csv')\n",
    "print(dfr_ted.shape)"
   ]
  },
  {
   "cell_type": "markdown",
   "metadata": {},
   "source": [
    "## Absolute truth: Number of compressions per data set\n",
    "- Mattress ------> 600 (30 per set)\n",
    "- Pillow George -> 150 (30 per set)\n",
    "- Pillow Reed ---> 150?\n",
    "- Teddy George --> 150 (30 per set)\n",
    "- Teddy Reed ----> 150?"
   ]
  },
  {
   "cell_type": "markdown",
   "metadata": {},
   "source": [
    "### Add labels to each of the dataframes to indicate their compression object"
   ]
  },
  {
   "cell_type": "code",
   "execution_count": 3,
   "metadata": {},
   "outputs": [],
   "source": [
    "df_mat['object'] = \"mattress\"\n",
    "dfg_pil['object'] = \"pillow_george\"\n",
    "dfg_ted['object'] = \"teddy_george\"\n",
    "dfr_pil['object'] = \"pillow_reed\"\n",
    "dfr_ted['object'] = \"teddy_reed\""
   ]
  },
  {
   "cell_type": "code",
   "execution_count": 4,
   "metadata": {},
   "outputs": [],
   "source": [
    "# Rename columns in df_mat\n",
    "df_mat = df_mat.rename(columns={'Linear Acceleration x (m/s^2)': 'Acceleration x (m/s^2)',\\\n",
    "                       'Linear Acceleration y (m/s^2)': 'Acceleration y (m/s^2)',\\\n",
    "                       'Linear Acceleration z (m/s^2)':'Acceleration z (m/s^2)'}) "
   ]
  },
  {
   "cell_type": "markdown",
   "metadata": {},
   "source": [
    "### Create time delta column"
   ]
  },
  {
   "cell_type": "code",
   "execution_count": 5,
   "metadata": {},
   "outputs": [],
   "source": [
    "def time_delta(data):\n",
    "    data['prev_time'] = data['Time (s)'].shift(1)\n",
    "    data['time_delta'] = data['Time (s)'] - data['prev_time']\n",
    "    return data"
   ]
  },
  {
   "cell_type": "code",
   "execution_count": 6,
   "metadata": {},
   "outputs": [],
   "source": [
    "df_mat = time_delta(df_mat)\n",
    "dfg_pil = time_delta(dfg_pil)\n",
    "dfg_ted = time_delta(dfg_ted)\n",
    "dfr_pil = time_delta(dfr_pil)\n",
    "dfr_ted = time_delta(dfr_ted)"
   ]
  },
  {
   "cell_type": "code",
   "execution_count": 7,
   "metadata": {},
   "outputs": [
    {
     "data": {
      "text/html": [
       "<div>\n",
       "<style scoped>\n",
       "    .dataframe tbody tr th:only-of-type {\n",
       "        vertical-align: middle;\n",
       "    }\n",
       "\n",
       "    .dataframe tbody tr th {\n",
       "        vertical-align: top;\n",
       "    }\n",
       "\n",
       "    .dataframe thead th {\n",
       "        text-align: right;\n",
       "    }\n",
       "</style>\n",
       "<table border=\"1\" class=\"dataframe\">\n",
       "  <thead>\n",
       "    <tr style=\"text-align: right;\">\n",
       "      <th></th>\n",
       "      <th>Time (s)</th>\n",
       "      <th>Acceleration x (m/s^2)</th>\n",
       "      <th>Acceleration y (m/s^2)</th>\n",
       "      <th>Acceleration z (m/s^2)</th>\n",
       "      <th>Absolute acceleration (m/s^2)</th>\n",
       "      <th>object</th>\n",
       "      <th>prev_time</th>\n",
       "      <th>time_delta</th>\n",
       "    </tr>\n",
       "  </thead>\n",
       "  <tbody>\n",
       "    <tr>\n",
       "      <td>0</td>\n",
       "      <td>0.001063</td>\n",
       "      <td>-1.021027</td>\n",
       "      <td>0.250579</td>\n",
       "      <td>9.786649</td>\n",
       "      <td>9.842956</td>\n",
       "      <td>pillow_george</td>\n",
       "      <td>NaN</td>\n",
       "      <td>NaN</td>\n",
       "    </tr>\n",
       "    <tr>\n",
       "      <td>1</td>\n",
       "      <td>0.011133</td>\n",
       "      <td>-0.998424</td>\n",
       "      <td>0.197140</td>\n",
       "      <td>9.809102</td>\n",
       "      <td>9.861754</td>\n",
       "      <td>pillow_george</td>\n",
       "      <td>0.001063</td>\n",
       "      <td>0.010070</td>\n",
       "    </tr>\n",
       "    <tr>\n",
       "      <td>2</td>\n",
       "      <td>0.021203</td>\n",
       "      <td>-0.964594</td>\n",
       "      <td>0.187859</td>\n",
       "      <td>9.795929</td>\n",
       "      <td>9.845098</td>\n",
       "      <td>pillow_george</td>\n",
       "      <td>0.011133</td>\n",
       "      <td>0.010070</td>\n",
       "    </tr>\n",
       "    <tr>\n",
       "      <td>3</td>\n",
       "      <td>0.031274</td>\n",
       "      <td>-0.955912</td>\n",
       "      <td>0.233215</td>\n",
       "      <td>9.776769</td>\n",
       "      <td>9.826158</td>\n",
       "      <td>pillow_george</td>\n",
       "      <td>0.021203</td>\n",
       "      <td>0.010071</td>\n",
       "    </tr>\n",
       "    <tr>\n",
       "      <td>4</td>\n",
       "      <td>0.041344</td>\n",
       "      <td>-0.952769</td>\n",
       "      <td>0.271984</td>\n",
       "      <td>9.744736</td>\n",
       "      <td>9.794979</td>\n",
       "      <td>pillow_george</td>\n",
       "      <td>0.031274</td>\n",
       "      <td>0.010070</td>\n",
       "    </tr>\n",
       "  </tbody>\n",
       "</table>\n",
       "</div>"
      ],
      "text/plain": [
       "   Time (s)  Acceleration x (m/s^2)  Acceleration y (m/s^2)  \\\n",
       "0  0.001063               -1.021027                0.250579   \n",
       "1  0.011133               -0.998424                0.197140   \n",
       "2  0.021203               -0.964594                0.187859   \n",
       "3  0.031274               -0.955912                0.233215   \n",
       "4  0.041344               -0.952769                0.271984   \n",
       "\n",
       "   Acceleration z (m/s^2)  Absolute acceleration (m/s^2)         object  \\\n",
       "0                9.786649                       9.842956  pillow_george   \n",
       "1                9.809102                       9.861754  pillow_george   \n",
       "2                9.795929                       9.845098  pillow_george   \n",
       "3                9.776769                       9.826158  pillow_george   \n",
       "4                9.744736                       9.794979  pillow_george   \n",
       "\n",
       "   prev_time  time_delta  \n",
       "0        NaN         NaN  \n",
       "1   0.001063    0.010070  \n",
       "2   0.011133    0.010070  \n",
       "3   0.021203    0.010071  \n",
       "4   0.031274    0.010070  "
      ]
     },
     "execution_count": 7,
     "metadata": {},
     "output_type": "execute_result"
    }
   ],
   "source": [
    "dfg_pil.head()"
   ]
  },
  {
   "cell_type": "markdown",
   "metadata": {},
   "source": [
    "### Stack all dataframes"
   ]
  },
  {
   "cell_type": "code",
   "execution_count": 8,
   "metadata": {},
   "outputs": [
    {
     "name": "stdout",
     "output_type": "stream",
     "text": [
      "expected row count: 109331\n",
      "actual row count  : 109331\n"
     ]
    }
   ],
   "source": [
    "print(\"expected row count:\",df_mat.shape[0] + \n",
    "                            dfg_pil.shape[0] +\n",
    "                            dfg_ted.shape[0] +\n",
    "                            dfr_pil.shape[0] +\n",
    "                            dfr_ted.shape[0])\n",
    "df = pd.concat([df_mat,dfg_pil,dfg_ted,dfr_pil,dfr_ted], ignore_index=True,sort=False)\n",
    "print('actual row count  :',df.shape[0])"
   ]
  },
  {
   "cell_type": "code",
   "execution_count": 9,
   "metadata": {},
   "outputs": [
    {
     "data": {
      "text/html": [
       "<div>\n",
       "<style scoped>\n",
       "    .dataframe tbody tr th:only-of-type {\n",
       "        vertical-align: middle;\n",
       "    }\n",
       "\n",
       "    .dataframe tbody tr th {\n",
       "        vertical-align: top;\n",
       "    }\n",
       "\n",
       "    .dataframe thead th {\n",
       "        text-align: right;\n",
       "    }\n",
       "</style>\n",
       "<table border=\"1\" class=\"dataframe\">\n",
       "  <thead>\n",
       "    <tr style=\"text-align: right;\">\n",
       "      <th></th>\n",
       "      <th>Time (s)</th>\n",
       "      <th>Acceleration x (m/s^2)</th>\n",
       "      <th>Acceleration y (m/s^2)</th>\n",
       "      <th>Acceleration z (m/s^2)</th>\n",
       "      <th>Absolute acceleration (m/s^2)</th>\n",
       "      <th>object</th>\n",
       "      <th>prev_time</th>\n",
       "      <th>time_delta</th>\n",
       "    </tr>\n",
       "  </thead>\n",
       "  <tbody>\n",
       "    <tr>\n",
       "      <td>14155</td>\n",
       "      <td>142.587235</td>\n",
       "      <td>-3.286566</td>\n",
       "      <td>7.068601</td>\n",
       "      <td>7.770791</td>\n",
       "      <td>11.006899</td>\n",
       "      <td>teddy_reed</td>\n",
       "      <td>142.577160</td>\n",
       "      <td>0.010075</td>\n",
       "    </tr>\n",
       "    <tr>\n",
       "      <td>14156</td>\n",
       "      <td>142.597310</td>\n",
       "      <td>-3.248994</td>\n",
       "      <td>6.948550</td>\n",
       "      <td>7.612121</td>\n",
       "      <td>10.806604</td>\n",
       "      <td>teddy_reed</td>\n",
       "      <td>142.587235</td>\n",
       "      <td>0.010075</td>\n",
       "    </tr>\n",
       "    <tr>\n",
       "      <td>14157</td>\n",
       "      <td>142.607385</td>\n",
       "      <td>-2.510729</td>\n",
       "      <td>6.655161</td>\n",
       "      <td>7.087162</td>\n",
       "      <td>10.041055</td>\n",
       "      <td>teddy_reed</td>\n",
       "      <td>142.597310</td>\n",
       "      <td>0.010075</td>\n",
       "    </tr>\n",
       "    <tr>\n",
       "      <td>14158</td>\n",
       "      <td>142.617460</td>\n",
       "      <td>-1.505719</td>\n",
       "      <td>6.329588</td>\n",
       "      <td>5.815706</td>\n",
       "      <td>8.726586</td>\n",
       "      <td>teddy_reed</td>\n",
       "      <td>142.607385</td>\n",
       "      <td>0.010075</td>\n",
       "    </tr>\n",
       "    <tr>\n",
       "      <td>14159</td>\n",
       "      <td>142.627535</td>\n",
       "      <td>-2.702181</td>\n",
       "      <td>7.017108</td>\n",
       "      <td>5.316644</td>\n",
       "      <td>9.209141</td>\n",
       "      <td>teddy_reed</td>\n",
       "      <td>142.617460</td>\n",
       "      <td>0.010075</td>\n",
       "    </tr>\n",
       "  </tbody>\n",
       "</table>\n",
       "</div>"
      ],
      "text/plain": [
       "         Time (s)  Acceleration x (m/s^2)  Acceleration y (m/s^2)  \\\n",
       "14155  142.587235               -3.286566                7.068601   \n",
       "14156  142.597310               -3.248994                6.948550   \n",
       "14157  142.607385               -2.510729                6.655161   \n",
       "14158  142.617460               -1.505719                6.329588   \n",
       "14159  142.627535               -2.702181                7.017108   \n",
       "\n",
       "       Acceleration z (m/s^2)  Absolute acceleration (m/s^2)      object  \\\n",
       "14155                7.770791                      11.006899  teddy_reed   \n",
       "14156                7.612121                      10.806604  teddy_reed   \n",
       "14157                7.087162                      10.041055  teddy_reed   \n",
       "14158                5.815706                       8.726586  teddy_reed   \n",
       "14159                5.316644                       9.209141  teddy_reed   \n",
       "\n",
       "        prev_time  time_delta  \n",
       "14155  142.577160    0.010075  \n",
       "14156  142.587235    0.010075  \n",
       "14157  142.597310    0.010075  \n",
       "14158  142.607385    0.010075  \n",
       "14159  142.617460    0.010075  "
      ]
     },
     "execution_count": 9,
     "metadata": {},
     "output_type": "execute_result"
    }
   ],
   "source": [
    "dfr_ted.tail()"
   ]
  },
  {
   "cell_type": "code",
   "execution_count": 10,
   "metadata": {},
   "outputs": [
    {
     "name": "stdout",
     "output_type": "stream",
     "text": [
      "<class 'pandas.core.frame.DataFrame'>\n",
      "RangeIndex: 109331 entries, 0 to 109330\n",
      "Data columns (total 8 columns):\n",
      "Time (s)                         109331 non-null float64\n",
      "Acceleration x (m/s^2)           109331 non-null float64\n",
      "Acceleration y (m/s^2)           109331 non-null float64\n",
      "Acceleration z (m/s^2)           109331 non-null float64\n",
      "Absolute acceleration (m/s^2)    109331 non-null float64\n",
      "object                           109331 non-null object\n",
      "prev_time                        109326 non-null float64\n",
      "time_delta                       109326 non-null float64\n",
      "dtypes: float64(7), object(1)\n",
      "memory usage: 6.7+ MB\n"
     ]
    }
   ],
   "source": [
    "df.info()"
   ]
  },
  {
   "cell_type": "markdown",
   "metadata": {},
   "source": [
    "### Plot data:\n",
    "- Are peaks easy to visualize?"
   ]
  },
  {
   "cell_type": "code",
   "execution_count": 11,
   "metadata": {},
   "outputs": [
    {
     "data": {
      "text/plain": [
       "Index(['Time (s)', 'Acceleration x (m/s^2)', 'Acceleration y (m/s^2)',\n",
       "       'Acceleration z (m/s^2)', 'Absolute acceleration (m/s^2)', 'object',\n",
       "       'prev_time', 'time_delta'],\n",
       "      dtype='object')"
      ]
     },
     "execution_count": 11,
     "metadata": {},
     "output_type": "execute_result"
    }
   ],
   "source": [
    "df.columns"
   ]
  },
  {
   "cell_type": "code",
   "execution_count": 12,
   "metadata": {},
   "outputs": [],
   "source": [
    "# df[df['object'] == 'mattress'].plot(x='Time (s)', y=['Acceleration x (m/s^2)', \n",
    "#                                                      'Acceleration y (m/s^2)',\n",
    "#                                                      'Acceleration z (m/s^2)', \n",
    "#                                                      'Absolute acceleration (m/s^2)'], kind=\"bar\", figsize=(9, 8))"
   ]
  },
  {
   "cell_type": "code",
   "execution_count": 13,
   "metadata": {},
   "outputs": [
    {
     "data": {
      "text/plain": [
       "Text(0.5, 1.0, 'Mattress Compressions over Time')"
      ]
     },
     "execution_count": 13,
     "metadata": {},
     "output_type": "execute_result"
    },
    {
     "data": {
      "image/png": "[encoded data removed]",
      "text/plain": [
       "<Figure size 432x288 with 1 Axes>"
      ]
     },
     "metadata": {},
     "output_type": "display_data"
    }
   ],
   "source": [
    "# Mattress\n",
    "df[df['object'] == 'mattress'].plot( 'Time (s)' , 'Absolute acceleration (m/s^2)')\n",
    "#df[df['object'] == 'mattress'].plot( 'Time (s)' , 'Acceleration x (m/s^2)')\n",
    "#df[df['object'] == 'mattress'].plot( 'Time (s)' , 'Acceleration y (m/s^2)')\n",
    "#df[df['object'] == 'mattress'].plot( 'Time (s)' , 'Acceleration z (m/s^2)')\n",
    "plt.title(\"Mattress Compressions over Time\")"
   ]
  },
  {
   "cell_type": "code",
   "execution_count": 14,
   "metadata": {},
   "outputs": [
    {
     "data": {
      "text/plain": [
       "Text(0.5, 1.0, 'Pillow George Compressions over Time')"
      ]
     },
     "execution_count": 14,
     "metadata": {},
     "output_type": "execute_result"
    },
    {
     "data": {
      "image/png": "[encoded data removed]",
      "text/plain": [
       "<Figure size 432x288 with 1 Axes>"
      ]
     },
     "metadata": {},
     "output_type": "display_data"
    }
   ],
   "source": [
    "# George pillow\n",
    "df[df['object'] == 'pillow_george'].plot( 'Time (s)' , 'Absolute acceleration (m/s^2)')\n",
    "plt.title(\"Pillow George Compressions over Time\")"
   ]
  },
  {
   "cell_type": "code",
   "execution_count": 15,
   "metadata": {},
   "outputs": [
    {
     "data": {
      "text/plain": [
       "Text(0.5, 1.0, 'Teddy George Compressions over Time')"
      ]
     },
     "execution_count": 15,
     "metadata": {},
     "output_type": "execute_result"
    },
    {
     "data": {
      "image/png": "[encoded data removed]",
      "text/plain": [
       "<Figure size 432x288 with 1 Axes>"
      ]
     },
     "metadata": {},
     "output_type": "display_data"
    }
   ],
   "source": [
    "# George teddy\n",
    "df[df['object'] == 'teddy_george'].plot( 'Time (s)' , 'Absolute acceleration (m/s^2)')\n",
    "plt.title(\"Teddy George Compressions over Time\")"
   ]
  },
  {
   "cell_type": "code",
   "execution_count": 16,
   "metadata": {},
   "outputs": [
    {
     "data": {
      "text/plain": [
       "Text(0.5, 1.0, 'Pillow Reed Compressions over Time')"
      ]
     },
     "execution_count": 16,
     "metadata": {},
     "output_type": "execute_result"
    },
    {
     "data": {
      "image/png": "[encoded data removed]",
      "text/plain": [
       "<Figure size 432x288 with 1 Axes>"
      ]
     },
     "metadata": {},
     "output_type": "display_data"
    }
   ],
   "source": [
    "# Reed pillow\n",
    "df[df['object'] == 'pillow_reed'].plot( 'Time (s)' , 'Absolute acceleration (m/s^2)')\n",
    "plt.title(\"Pillow Reed Compressions over Time\")"
   ]
  },
  {
   "cell_type": "code",
   "execution_count": 17,
   "metadata": {},
   "outputs": [
    {
     "data": {
      "text/plain": [
       "Text(0.5, 1.0, 'Teddy Reed Compressions over Time')"
      ]
     },
     "execution_count": 17,
     "metadata": {},
     "output_type": "execute_result"
    },
    {
     "data": {
      "image/png": "[encoded data removed]",
      "text/plain": [
       "<Figure size 432x288 with 1 Axes>"
      ]
     },
     "metadata": {},
     "output_type": "display_data"
    }
   ],
   "source": [
    "# Reed teddy\n",
    "df[df['object'] == 'teddy_reed'].plot( 'Time (s)' , 'Absolute acceleration (m/s^2)')\n",
    "plt.title(\"Teddy Reed Compressions over Time\")"
   ]
  },
  {
   "cell_type": "markdown",
   "metadata": {},
   "source": [
    "## Notes: \n",
    "- All compression data seems to be well spaced\n",
    "- George Teddy data seems to be 90 compressions\n",
    "    - Confirm with George"
   ]
  },
  {
   "cell_type": "markdown",
   "metadata": {},
   "source": [
    "### Create the following:\n",
    "- Half second increment column\n",
    "  - Ascneding in value\n",
    "- Rolling std\n",
    "  - std across half second increment blocks"
   ]
  },
  {
   "cell_type": "code",
   "execution_count": 26,
   "metadata": {},
   "outputs": [
    {
     "data": {
      "text/html": [
       "<div>\n",
       "<style scoped>\n",
       "    .dataframe tbody tr th:only-of-type {\n",
       "        vertical-align: middle;\n",
       "    }\n",
       "\n",
       "    .dataframe tbody tr th {\n",
       "        vertical-align: top;\n",
       "    }\n",
       "\n",
       "    .dataframe thead th {\n",
       "        text-align: right;\n",
       "    }\n",
       "</style>\n",
       "<table border=\"1\" class=\"dataframe\">\n",
       "  <thead>\n",
       "    <tr style=\"text-align: right;\">\n",
       "      <th></th>\n",
       "      <th>Time (s)</th>\n",
       "      <th>Acceleration x (m/s^2)</th>\n",
       "      <th>Acceleration y (m/s^2)</th>\n",
       "      <th>Acceleration z (m/s^2)</th>\n",
       "      <th>Absolute acceleration (m/s^2)</th>\n",
       "      <th>object</th>\n",
       "      <th>prev_time</th>\n",
       "      <th>time_delta</th>\n",
       "    </tr>\n",
       "  </thead>\n",
       "  <tbody>\n",
       "    <tr>\n",
       "      <td>0</td>\n",
       "      <td>0.016569</td>\n",
       "      <td>-0.079748</td>\n",
       "      <td>-0.011341</td>\n",
       "      <td>1.189440</td>\n",
       "      <td>1.192164</td>\n",
       "      <td>mattress</td>\n",
       "      <td>NaN</td>\n",
       "      <td>NaN</td>\n",
       "    </tr>\n",
       "    <tr>\n",
       "      <td>1</td>\n",
       "      <td>0.026562</td>\n",
       "      <td>-0.009065</td>\n",
       "      <td>-0.054324</td>\n",
       "      <td>1.198593</td>\n",
       "      <td>1.199857</td>\n",
       "      <td>mattress</td>\n",
       "      <td>0.016569</td>\n",
       "      <td>0.009993</td>\n",
       "    </tr>\n",
       "    <tr>\n",
       "      <td>2</td>\n",
       "      <td>0.036555</td>\n",
       "      <td>0.080083</td>\n",
       "      <td>-0.027440</td>\n",
       "      <td>0.352316</td>\n",
       "      <td>0.362343</td>\n",
       "      <td>mattress</td>\n",
       "      <td>0.026562</td>\n",
       "      <td>0.009993</td>\n",
       "    </tr>\n",
       "    <tr>\n",
       "      <td>3</td>\n",
       "      <td>0.046548</td>\n",
       "      <td>0.092367</td>\n",
       "      <td>-0.035558</td>\n",
       "      <td>-0.328451</td>\n",
       "      <td>0.343039</td>\n",
       "      <td>mattress</td>\n",
       "      <td>0.036555</td>\n",
       "      <td>0.009993</td>\n",
       "    </tr>\n",
       "    <tr>\n",
       "      <td>4</td>\n",
       "      <td>0.056541</td>\n",
       "      <td>0.074421</td>\n",
       "      <td>-0.023063</td>\n",
       "      <td>-0.515041</td>\n",
       "      <td>0.520901</td>\n",
       "      <td>mattress</td>\n",
       "      <td>0.046548</td>\n",
       "      <td>0.009993</td>\n",
       "    </tr>\n",
       "  </tbody>\n",
       "</table>\n",
       "</div>"
      ],
      "text/plain": [
       "   Time (s)  Acceleration x (m/s^2)  Acceleration y (m/s^2)  \\\n",
       "0  0.016569               -0.079748               -0.011341   \n",
       "1  0.026562               -0.009065               -0.054324   \n",
       "2  0.036555                0.080083               -0.027440   \n",
       "3  0.046548                0.092367               -0.035558   \n",
       "4  0.056541                0.074421               -0.023063   \n",
       "\n",
       "   Acceleration z (m/s^2)  Absolute acceleration (m/s^2)    object  prev_time  \\\n",
       "0                1.189440                       1.192164  mattress        NaN   \n",
       "1                1.198593                       1.199857  mattress   0.016569   \n",
       "2                0.352316                       0.362343  mattress   0.026562   \n",
       "3               -0.328451                       0.343039  mattress   0.036555   \n",
       "4               -0.515041                       0.520901  mattress   0.046548   \n",
       "\n",
       "   time_delta  \n",
       "0         NaN  \n",
       "1    0.009993  \n",
       "2    0.009993  \n",
       "3    0.009993  \n",
       "4    0.009993  "
      ]
     },
     "execution_count": 26,
     "metadata": {},
     "output_type": "execute_result"
    }
   ],
   "source": [
    "df.head()"
   ]
  },
  {
   "cell_type": "code",
   "execution_count": 25,
   "metadata": {},
   "outputs": [
    {
     "data": {
      "text/plain": [
       "0.09992899998"
      ]
     },
     "execution_count": 25,
     "metadata": {},
     "output_type": "execute_result"
    }
   ],
   "source": [
    "# Roughly how many rows in .1 seconds?\n",
    "df['time_delta'].head(11).sum()"
   ]
  },
  {
   "cell_type": "code",
   "execution_count": 37,
   "metadata": {},
   "outputs": [],
   "source": [
    "# A compression may occur in a fraction of a second\n",
    "# Take the rolling std for every ten rows\n",
    "df['rolling_stdev'] = df['Absolute acceleration (m/s^2)'].rolling(10).std()"
   ]
  },
  {
   "cell_type": "code",
   "execution_count": 41,
   "metadata": {},
   "outputs": [
    {
     "data": {
      "text/html": [
       "<div>\n",
       "<style scoped>\n",
       "    .dataframe tbody tr th:only-of-type {\n",
       "        vertical-align: middle;\n",
       "    }\n",
       "\n",
       "    .dataframe tbody tr th {\n",
       "        vertical-align: top;\n",
       "    }\n",
       "\n",
       "    .dataframe thead th {\n",
       "        text-align: right;\n",
       "    }\n",
       "</style>\n",
       "<table border=\"1\" class=\"dataframe\">\n",
       "  <thead>\n",
       "    <tr style=\"text-align: right;\">\n",
       "      <th></th>\n",
       "      <th>Time (s)</th>\n",
       "      <th>Acceleration x (m/s^2)</th>\n",
       "      <th>Acceleration y (m/s^2)</th>\n",
       "      <th>Acceleration z (m/s^2)</th>\n",
       "      <th>Absolute acceleration (m/s^2)</th>\n",
       "      <th>object</th>\n",
       "      <th>prev_time</th>\n",
       "      <th>time_delta</th>\n",
       "      <th>rolling_stdev</th>\n",
       "    </tr>\n",
       "  </thead>\n",
       "  <tbody>\n",
       "    <tr>\n",
       "      <td>0</td>\n",
       "      <td>0.016569</td>\n",
       "      <td>-0.079748</td>\n",
       "      <td>-0.011341</td>\n",
       "      <td>1.189440</td>\n",
       "      <td>1.192164</td>\n",
       "      <td>mattress</td>\n",
       "      <td>NaN</td>\n",
       "      <td>NaN</td>\n",
       "      <td>NaN</td>\n",
       "    </tr>\n",
       "    <tr>\n",
       "      <td>1</td>\n",
       "      <td>0.026562</td>\n",
       "      <td>-0.009065</td>\n",
       "      <td>-0.054324</td>\n",
       "      <td>1.198593</td>\n",
       "      <td>1.199857</td>\n",
       "      <td>mattress</td>\n",
       "      <td>0.016569</td>\n",
       "      <td>0.009993</td>\n",
       "      <td>NaN</td>\n",
       "    </tr>\n",
       "    <tr>\n",
       "      <td>2</td>\n",
       "      <td>0.036555</td>\n",
       "      <td>0.080083</td>\n",
       "      <td>-0.027440</td>\n",
       "      <td>0.352316</td>\n",
       "      <td>0.362343</td>\n",
       "      <td>mattress</td>\n",
       "      <td>0.026562</td>\n",
       "      <td>0.009993</td>\n",
       "      <td>NaN</td>\n",
       "    </tr>\n",
       "    <tr>\n",
       "      <td>3</td>\n",
       "      <td>0.046548</td>\n",
       "      <td>0.092367</td>\n",
       "      <td>-0.035558</td>\n",
       "      <td>-0.328451</td>\n",
       "      <td>0.343039</td>\n",
       "      <td>mattress</td>\n",
       "      <td>0.036555</td>\n",
       "      <td>0.009993</td>\n",
       "      <td>NaN</td>\n",
       "    </tr>\n",
       "    <tr>\n",
       "      <td>4</td>\n",
       "      <td>0.056541</td>\n",
       "      <td>0.074421</td>\n",
       "      <td>-0.023063</td>\n",
       "      <td>-0.515041</td>\n",
       "      <td>0.520901</td>\n",
       "      <td>mattress</td>\n",
       "      <td>0.046548</td>\n",
       "      <td>0.009993</td>\n",
       "      <td>NaN</td>\n",
       "    </tr>\n",
       "    <tr>\n",
       "      <td>5</td>\n",
       "      <td>0.066534</td>\n",
       "      <td>0.045828</td>\n",
       "      <td>0.082534</td>\n",
       "      <td>-0.551452</td>\n",
       "      <td>0.559474</td>\n",
       "      <td>mattress</td>\n",
       "      <td>0.056541</td>\n",
       "      <td>0.009993</td>\n",
       "      <td>NaN</td>\n",
       "    </tr>\n",
       "    <tr>\n",
       "      <td>6</td>\n",
       "      <td>0.076527</td>\n",
       "      <td>0.007005</td>\n",
       "      <td>0.124853</td>\n",
       "      <td>-0.724355</td>\n",
       "      <td>0.735070</td>\n",
       "      <td>mattress</td>\n",
       "      <td>0.066534</td>\n",
       "      <td>0.009993</td>\n",
       "      <td>NaN</td>\n",
       "    </tr>\n",
       "    <tr>\n",
       "      <td>7</td>\n",
       "      <td>0.086520</td>\n",
       "      <td>0.029431</td>\n",
       "      <td>-0.075169</td>\n",
       "      <td>-0.886498</td>\n",
       "      <td>0.890165</td>\n",
       "      <td>mattress</td>\n",
       "      <td>0.076527</td>\n",
       "      <td>0.009993</td>\n",
       "      <td>NaN</td>\n",
       "    </tr>\n",
       "    <tr>\n",
       "      <td>8</td>\n",
       "      <td>0.096512</td>\n",
       "      <td>0.057343</td>\n",
       "      <td>0.082388</td>\n",
       "      <td>-0.567792</td>\n",
       "      <td>0.576597</td>\n",
       "      <td>mattress</td>\n",
       "      <td>0.086520</td>\n",
       "      <td>0.009992</td>\n",
       "      <td>NaN</td>\n",
       "    </tr>\n",
       "    <tr>\n",
       "      <td>9</td>\n",
       "      <td>0.106505</td>\n",
       "      <td>0.065172</td>\n",
       "      <td>0.088598</td>\n",
       "      <td>0.157557</td>\n",
       "      <td>0.192149</td>\n",
       "      <td>mattress</td>\n",
       "      <td>0.096512</td>\n",
       "      <td>0.009993</td>\n",
       "      <td>0.346015</td>\n",
       "    </tr>\n",
       "    <tr>\n",
       "      <td>10</td>\n",
       "      <td>0.116498</td>\n",
       "      <td>0.054092</td>\n",
       "      <td>0.009836</td>\n",
       "      <td>0.734434</td>\n",
       "      <td>0.736489</td>\n",
       "      <td>mattress</td>\n",
       "      <td>0.106505</td>\n",
       "      <td>0.009993</td>\n",
       "      <td>0.293797</td>\n",
       "    </tr>\n",
       "    <tr>\n",
       "      <td>11</td>\n",
       "      <td>0.126491</td>\n",
       "      <td>0.039197</td>\n",
       "      <td>-0.001069</td>\n",
       "      <td>0.675203</td>\n",
       "      <td>0.676341</td>\n",
       "      <td>mattress</td>\n",
       "      <td>0.116498</td>\n",
       "      <td>0.009993</td>\n",
       "      <td>0.212811</td>\n",
       "    </tr>\n",
       "    <tr>\n",
       "      <td>12</td>\n",
       "      <td>0.136484</td>\n",
       "      <td>0.019101</td>\n",
       "      <td>0.001559</td>\n",
       "      <td>0.146201</td>\n",
       "      <td>0.147452</td>\n",
       "      <td>mattress</td>\n",
       "      <td>0.126491</td>\n",
       "      <td>0.009993</td>\n",
       "      <td>0.243536</td>\n",
       "    </tr>\n",
       "    <tr>\n",
       "      <td>13</td>\n",
       "      <td>0.146477</td>\n",
       "      <td>0.030533</td>\n",
       "      <td>0.029892</td>\n",
       "      <td>-0.267657</td>\n",
       "      <td>0.271046</td>\n",
       "      <td>mattress</td>\n",
       "      <td>0.136484</td>\n",
       "      <td>0.009993</td>\n",
       "      <td>0.250885</td>\n",
       "    </tr>\n",
       "    <tr>\n",
       "      <td>14</td>\n",
       "      <td>0.156470</td>\n",
       "      <td>0.010063</td>\n",
       "      <td>0.056781</td>\n",
       "      <td>-0.552849</td>\n",
       "      <td>0.555848</td>\n",
       "      <td>mattress</td>\n",
       "      <td>0.146477</td>\n",
       "      <td>0.009993</td>\n",
       "      <td>0.250979</td>\n",
       "    </tr>\n",
       "    <tr>\n",
       "      <td>15</td>\n",
       "      <td>0.166463</td>\n",
       "      <td>0.003899</td>\n",
       "      <td>0.068176</td>\n",
       "      <td>-0.466523</td>\n",
       "      <td>0.471494</td>\n",
       "      <td>mattress</td>\n",
       "      <td>0.156470</td>\n",
       "      <td>0.009993</td>\n",
       "      <td>0.251530</td>\n",
       "    </tr>\n",
       "    <tr>\n",
       "      <td>16</td>\n",
       "      <td>0.176456</td>\n",
       "      <td>0.001174</td>\n",
       "      <td>0.058120</td>\n",
       "      <td>-0.247518</td>\n",
       "      <td>0.254253</td>\n",
       "      <td>mattress</td>\n",
       "      <td>0.166463</td>\n",
       "      <td>0.009993</td>\n",
       "      <td>0.252921</td>\n",
       "    </tr>\n",
       "    <tr>\n",
       "      <td>17</td>\n",
       "      <td>0.186448</td>\n",
       "      <td>-0.004512</td>\n",
       "      <td>0.037399</td>\n",
       "      <td>-0.047229</td>\n",
       "      <td>0.060412</td>\n",
       "      <td>mattress</td>\n",
       "      <td>0.176456</td>\n",
       "      <td>0.009992</td>\n",
       "      <td>0.238051</td>\n",
       "    </tr>\n",
       "    <tr>\n",
       "      <td>18</td>\n",
       "      <td>0.196441</td>\n",
       "      <td>-0.000488</td>\n",
       "      <td>-0.023147</td>\n",
       "      <td>0.157958</td>\n",
       "      <td>0.159646</td>\n",
       "      <td>mattress</td>\n",
       "      <td>0.186448</td>\n",
       "      <td>0.009993</td>\n",
       "      <td>0.239068</td>\n",
       "    </tr>\n",
       "    <tr>\n",
       "      <td>19</td>\n",
       "      <td>0.206434</td>\n",
       "      <td>-0.007299</td>\n",
       "      <td>-0.038497</td>\n",
       "      <td>0.228817</td>\n",
       "      <td>0.232147</td>\n",
       "      <td>mattress</td>\n",
       "      <td>0.196441</td>\n",
       "      <td>0.009993</td>\n",
       "      <td>0.236407</td>\n",
       "    </tr>\n",
       "  </tbody>\n",
       "</table>\n",
       "</div>"
      ],
      "text/plain": [
       "    Time (s)  Acceleration x (m/s^2)  Acceleration y (m/s^2)  \\\n",
       "0   0.016569               -0.079748               -0.011341   \n",
       "1   0.026562               -0.009065               -0.054324   \n",
       "2   0.036555                0.080083               -0.027440   \n",
       "3   0.046548                0.092367               -0.035558   \n",
       "4   0.056541                0.074421               -0.023063   \n",
       "5   0.066534                0.045828                0.082534   \n",
       "6   0.076527                0.007005                0.124853   \n",
       "7   0.086520                0.029431               -0.075169   \n",
       "8   0.096512                0.057343                0.082388   \n",
       "9   0.106505                0.065172                0.088598   \n",
       "10  0.116498                0.054092                0.009836   \n",
       "11  0.126491                0.039197               -0.001069   \n",
       "12  0.136484                0.019101                0.001559   \n",
       "13  0.146477                0.030533                0.029892   \n",
       "14  0.156470                0.010063                0.056781   \n",
       "15  0.166463                0.003899                0.068176   \n",
       "16  0.176456                0.001174                0.058120   \n",
       "17  0.186448               -0.004512                0.037399   \n",
       "18  0.196441               -0.000488               -0.023147   \n",
       "19  0.206434               -0.007299               -0.038497   \n",
       "\n",
       "    Acceleration z (m/s^2)  Absolute acceleration (m/s^2)    object  \\\n",
       "0                 1.189440                       1.192164  mattress   \n",
       "1                 1.198593                       1.199857  mattress   \n",
       "2                 0.352316                       0.362343  mattress   \n",
       "3                -0.328451                       0.343039  mattress   \n",
       "4                -0.515041                       0.520901  mattress   \n",
       "5                -0.551452                       0.559474  mattress   \n",
       "6                -0.724355                       0.735070  mattress   \n",
       "7                -0.886498                       0.890165  mattress   \n",
       "8                -0.567792                       0.576597  mattress   \n",
       "9                 0.157557                       0.192149  mattress   \n",
       "10                0.734434                       0.736489  mattress   \n",
       "11                0.675203                       0.676341  mattress   \n",
       "12                0.146201                       0.147452  mattress   \n",
       "13               -0.267657                       0.271046  mattress   \n",
       "14               -0.552849                       0.555848  mattress   \n",
       "15               -0.466523                       0.471494  mattress   \n",
       "16               -0.247518                       0.254253  mattress   \n",
       "17               -0.047229                       0.060412  mattress   \n",
       "18                0.157958                       0.159646  mattress   \n",
       "19                0.228817                       0.232147  mattress   \n",
       "\n",
       "    prev_time  time_delta  rolling_stdev  \n",
       "0         NaN         NaN            NaN  \n",
       "1    0.016569    0.009993            NaN  \n",
       "2    0.026562    0.009993            NaN  \n",
       "3    0.036555    0.009993            NaN  \n",
       "4    0.046548    0.009993            NaN  \n",
       "5    0.056541    0.009993            NaN  \n",
       "6    0.066534    0.009993            NaN  \n",
       "7    0.076527    0.009993            NaN  \n",
       "8    0.086520    0.009992            NaN  \n",
       "9    0.096512    0.009993       0.346015  \n",
       "10   0.106505    0.009993       0.293797  \n",
       "11   0.116498    0.009993       0.212811  \n",
       "12   0.126491    0.009993       0.243536  \n",
       "13   0.136484    0.009993       0.250885  \n",
       "14   0.146477    0.009993       0.250979  \n",
       "15   0.156470    0.009993       0.251530  \n",
       "16   0.166463    0.009993       0.252921  \n",
       "17   0.176456    0.009992       0.238051  \n",
       "18   0.186448    0.009993       0.239068  \n",
       "19   0.196441    0.009993       0.236407  "
      ]
     },
     "execution_count": 41,
     "metadata": {},
     "output_type": "execute_result"
    }
   ],
   "source": [
    "df.head(20)"
   ]
  },
  {
   "cell_type": "code",
   "execution_count": 38,
   "metadata": {},
   "outputs": [
    {
     "data": {
      "text/plain": [
       "Text(0.5, 1.0, 'Rolling Standard Dev over Time')"
      ]
     },
     "execution_count": 38,
     "metadata": {},
     "output_type": "execute_result"
    },
    {
     "data": {
      "image/png": "[encoded data removed]",
      "text/plain": [
       "<Figure size 432x288 with 1 Axes>"
      ]
     },
     "metadata": {},
     "output_type": "display_data"
    }
   ],
   "source": [
    "df[df['object'] == 'mattress'].plot( 'Time (s)' , 'rolling_stdev')\n",
    "plt.title(\"Mattress: Rolling Standard Dev over Time\")"
   ]
  },
  {
   "cell_type": "code",
   "execution_count": 43,
   "metadata": {},
   "outputs": [
    {
     "data": {
      "text/plain": [
       "Text(0.5, 1.0, 'Pillow George: Rolling Standard Dev over Time')"
      ]
     },
     "execution_count": 43,
     "metadata": {},
     "output_type": "execute_result"
    },
    {
     "data": {
      "image/png": "[encoded data removed]",
      "text/plain": [
       "<Figure size 432x288 with 1 Axes>"
      ]
     },
     "metadata": {},
     "output_type": "display_data"
    }
   ],
   "source": [
    "df[df['object'] == 'pillow_george'].plot( 'Time (s)' , 'rolling_stdev')\n",
    "plt.title(\"Pillow George: Rolling Standard Dev over Time\")"
   ]
  },
  {
   "cell_type": "code",
   "execution_count": null,
   "metadata": {},
   "outputs": [],
   "source": []
  }
 ],
 "metadata": {
  "kernelspec": {
   "display_name": "Python 3",
   "language": "python",
   "name": "python3"
  },
  "language_info": {
   "codemirror_mode": {
    "name": "ipython",
    "version": 3
   },
   "file_extension": ".py",
   "mimetype": "text/x-python",
   "name": "python",
   "nbconvert_exporter": "python",
   "pygments_lexer": "ipython3",
   "version": "3.6.3"
  }
 },
 "nbformat": 4,
 "nbformat_minor": 4
}
