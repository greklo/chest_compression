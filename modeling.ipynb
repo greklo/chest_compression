{
 "cells": [
  {
   "cell_type": "markdown",
   "metadata": {},
   "source": [
    "# The purpose of this notebook is to build a machine learning model to predict whether or not a compression took place"
   ]
  },
  {
   "cell_type": "code",
   "execution_count": null,
   "metadata": {},
   "outputs": [],
   "source": [
    "import pandas as pd\n",
    "import numpy as np\n",
    "\n",
    "# Utilities file\n",
    "import utility as util\n",
    "\n",
    "from collections import OrderedDict\n",
    "from itertools import product\n",
    "\n",
    "# modeling\n",
    "from sklearn.model_selection import train_test_split\n",
    "from sklearn.ensemble import RandomForestClassifier\n",
    "from sklearn.metrics import classification_report, accuracy_score\n",
    "\n",
    "from sklearn.model_selection import GridSearchCV\n",
    "from xgboost import XGBClassifier\n",
    "\n",
    "from sklearn.metrics import (\n",
    "    confusion_matrix,\n",
    "    roc_curve,\n",
    "    roc_auc_score,\n",
    "    auc,\n",
    "    brier_score_loss,\n",
    ")\n",
    "from sklearn.metrics import f1_score, accuracy_score, precision_score, recall_score\n",
    "\n",
    "from scipy import stats\n",
    "\n",
    "import matplotlib.pyplot as plt\n",
    "%matplotlib inline"
   ]
  },
  {
   "cell_type": "code",
   "execution_count": null,
   "metadata": {},
   "outputs": [],
   "source": [
    "# import data\n",
    "df = pd.read_csv('data/labeled_comp.csv')"
   ]
  },
  {
   "cell_type": "code",
   "execution_count": null,
   "metadata": {},
   "outputs": [],
   "source": [
    "df.head()"
   ]
  },
  {
   "cell_type": "code",
   "execution_count": null,
   "metadata": {},
   "outputs": [],
   "source": [
    "# Label balance\n",
    "df['is_compression'].value_counts()"
   ]
  },
  {
   "cell_type": "markdown",
   "metadata": {},
   "source": [
    "## When modeling, it's important to think about how this model will be used in a production setting. Model results will need to be quick. Therefore, it would be best for us to use an existing sensor reading rather than building a new one."
   ]
  },
  {
   "cell_type": "code",
   "execution_count": null,
   "metadata": {},
   "outputs": [],
   "source": [
    "# Select features and target\n",
    "X = df[['Acceleration x (m/s^2)', 'Acceleration y (m/s^2)', 'Acceleration z (m/s^2)', 'Absolute acceleration (m/s^2)']]\n",
    "y = df['is_compression']\n",
    "\n",
    "# Split the data into training and test sets\n",
    "X_train, X_test, y_train, y_test = train_test_split(X, y, test_size=0.2, random_state=42)\n",
    "\n",
    "# Initialize the model\n",
    "model = RandomForestClassifier(n_estimators=200, \n",
    "                               random_state = 11,\n",
    "                               n_jobs=-1, \n",
    "                               class_weight = 'balanced',\n",
    "                               verbose=True, \n",
    "                               max_depth=10,\n",
    "                               min_samples_leaf=1)\n",
    "\n",
    "\n",
    "# Train the model\n",
    "model.fit(X_train, y_train)\n",
    "\n",
    "# Make predictions\n",
    "y_pred = model.predict(X_test)"
   ]
  },
  {
   "cell_type": "markdown",
   "metadata": {},
   "source": [
    "### Model Metrics"
   ]
  },
  {
   "cell_type": "code",
   "execution_count": null,
   "metadata": {},
   "outputs": [],
   "source": [
    "# Make sure the model isn't overfitting the training data\n",
    "rf_train_prob = model.predict_proba(X_train)[:, 1]\n",
    "rf_test_prob = model.predict_proba(X_test)[:, 1]\n",
    "\n",
    "### Get Model Stats:\n",
    "# Get test metrics\n",
    "rf_test_pred = rf_test_prob > 0.5\n",
    "util.model_stats(y_train, rf_train_prob, y_test, rf_test_prob, rf_test_pred)"
   ]
  },
  {
   "cell_type": "markdown",
   "metadata": {},
   "source": [
    "### Grid search"
   ]
  },
  {
   "cell_type": "code",
   "execution_count": null,
   "metadata": {},
   "outputs": [],
   "source": [
    "grid_search = False\n",
    "\n",
    "if grid_search:\n",
    "    # specify parameters and distributions to sample from\n",
    "    param_list = {\"max_depth\": [3,5,7],\n",
    "                  \"learning_rate\": [0.1],\n",
    "                  \"scale_pos_weight\": [3, 5]\n",
    "                 }\n",
    "\n",
    "    print(\"defining the model\")\n",
    "    # run randomized search\n",
    "    model = XGBClassifier(n_estimators = 375,\n",
    "                          n_jobs = -1,\n",
    "                          silent = False)\n",
    "\n",
    "    # running the grid search\n",
    "    xgb = GridSearchCV(model, param_list, scoring = \"f1\",verbose=2)\n",
    "    %time xgb.fit(X_train, y_train)\n",
    "\n",
    "else:\n",
    "    xgb = XGBClassifier(n_estimators = 375,\n",
    "                          n_jobs = -1,\n",
    "                          silent = True,\n",
    "                          max_depth = 3,\n",
    "                          learning_rate = 0.1,\n",
    "                          scale_pos_weight = 3\n",
    "                         )\n",
    "\n",
    "    print(\"Fitting the model\")\n",
    "    xgb.fit(X_train, y_train)"
   ]
  },
  {
   "cell_type": "code",
   "execution_count": null,
   "metadata": {},
   "outputs": [],
   "source": [
    "#xgb.best_params_"
   ]
  },
  {
   "cell_type": "code",
   "execution_count": null,
   "metadata": {},
   "outputs": [],
   "source": [
    "# Make sure the model isn't overfitting the training data\n",
    "xgb_train_prob = xgb.predict_proba(X_train)[:, 1]\n",
    "xgb_test_prob = xgb.predict_proba(X_test)[:, 1]\n",
    "\n",
    "### Get Model Stats:\n",
    "# Get test metrics\n",
    "xgb_test_pred = xgb_test_prob > 0.5\n",
    "util.model_stats(y_train, xgb_train_prob, y_test, xgb_test_prob, xgb_test_pred)"
   ]
  },
  {
   "cell_type": "code",
   "execution_count": null,
   "metadata": {},
   "outputs": [],
   "source": [
    "util.make_ks_plot(y_train,xgb_train_prob,y_test,xgb_test_prob,label='is_compression')"
   ]
  },
  {
   "cell_type": "code",
   "execution_count": null,
   "metadata": {},
   "outputs": [],
   "source": []
  }
 ],
 "metadata": {
  "kernelspec": {
   "display_name": "Python 3",
   "language": "python",
   "name": "python3"
  },
  "language_info": {
   "codemirror_mode": {
    "name": "ipython",
    "version": 3
   },
   "file_extension": ".py",
   "mimetype": "text/x-python",
   "name": "python",
   "nbconvert_exporter": "python",
   "pygments_lexer": "ipython3",
   "version": "3.6.3"
  }
 },
 "nbformat": 4,
 "nbformat_minor": 4
}
