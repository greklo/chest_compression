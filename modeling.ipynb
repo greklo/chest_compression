{
 "cells": [
  {
   "cell_type": "markdown",
   "metadata": {},
   "source": [
    "# The purpose of this notebook is to build a machine learning model to predict whether or not a compression took place"
   ]
  },
  {
   "cell_type": "code",
   "execution_count": 1,
   "metadata": {},
   "outputs": [],
   "source": [
    "import pandas as pd\n",
    "import numpy as np\n",
    "\n",
    "# Utilities file\n",
    "import utility as util\n",
    "\n",
    "from collections import OrderedDict\n",
    "from itertools import product\n",
    "\n",
    "# modeling\n",
    "from sklearn.model_selection import train_test_split\n",
    "from sklearn.ensemble import RandomForestClassifier\n",
    "from sklearn.metrics import classification_report, accuracy_score\n",
    "\n",
    "from sklearn.model_selection import GridSearchCV\n",
    "from xgboost import XGBClassifier\n",
    "\n",
    "from sklearn.metrics import (\n",
    "    confusion_matrix,\n",
    "    roc_curve,\n",
    "    roc_auc_score,\n",
    "    auc,\n",
    "    brier_score_loss,\n",
    ")\n",
    "from sklearn.metrics import f1_score, accuracy_score, precision_score, recall_score\n",
    "\n",
    "from scipy import stats\n",
    "\n",
    "import matplotlib.pyplot as plt\n",
    "%matplotlib inline"
   ]
  },
  {
   "cell_type": "code",
   "execution_count": 2,
   "metadata": {},
   "outputs": [],
   "source": [
    "# import data\n",
    "df = pd.read_csv('data/labeled_comp.csv')"
   ]
  },
  {
   "cell_type": "code",
   "execution_count": 3,
   "metadata": {},
   "outputs": [
    {
     "data": {
      "text/html": [
       "<div>\n",
       "<style scoped>\n",
       "    .dataframe tbody tr th:only-of-type {\n",
       "        vertical-align: middle;\n",
       "    }\n",
       "\n",
       "    .dataframe tbody tr th {\n",
       "        vertical-align: top;\n",
       "    }\n",
       "\n",
       "    .dataframe thead th {\n",
       "        text-align: right;\n",
       "    }\n",
       "</style>\n",
       "<table border=\"1\" class=\"dataframe\">\n",
       "  <thead>\n",
       "    <tr style=\"text-align: right;\">\n",
       "      <th></th>\n",
       "      <th>Time (s)</th>\n",
       "      <th>Acceleration x (m/s^2)</th>\n",
       "      <th>Acceleration y (m/s^2)</th>\n",
       "      <th>Acceleration z (m/s^2)</th>\n",
       "      <th>Absolute acceleration (m/s^2)</th>\n",
       "      <th>object</th>\n",
       "      <th>prev_time</th>\n",
       "      <th>time_delta</th>\n",
       "      <th>rolling_stdev</th>\n",
       "      <th>is_compression</th>\n",
       "    </tr>\n",
       "  </thead>\n",
       "  <tbody>\n",
       "    <tr>\n",
       "      <td>0</td>\n",
       "      <td>0.016569</td>\n",
       "      <td>-0.079748</td>\n",
       "      <td>-0.011341</td>\n",
       "      <td>1.189440</td>\n",
       "      <td>1.192164</td>\n",
       "      <td>mattress</td>\n",
       "      <td>NaN</td>\n",
       "      <td>NaN</td>\n",
       "      <td>NaN</td>\n",
       "      <td>0</td>\n",
       "    </tr>\n",
       "    <tr>\n",
       "      <td>1</td>\n",
       "      <td>0.026562</td>\n",
       "      <td>-0.009065</td>\n",
       "      <td>-0.054324</td>\n",
       "      <td>1.198593</td>\n",
       "      <td>1.199857</td>\n",
       "      <td>mattress</td>\n",
       "      <td>0.016569</td>\n",
       "      <td>0.009993</td>\n",
       "      <td>NaN</td>\n",
       "      <td>0</td>\n",
       "    </tr>\n",
       "    <tr>\n",
       "      <td>2</td>\n",
       "      <td>0.036555</td>\n",
       "      <td>0.080083</td>\n",
       "      <td>-0.027440</td>\n",
       "      <td>0.352316</td>\n",
       "      <td>0.362343</td>\n",
       "      <td>mattress</td>\n",
       "      <td>0.026562</td>\n",
       "      <td>0.009993</td>\n",
       "      <td>NaN</td>\n",
       "      <td>0</td>\n",
       "    </tr>\n",
       "    <tr>\n",
       "      <td>3</td>\n",
       "      <td>0.046548</td>\n",
       "      <td>0.092367</td>\n",
       "      <td>-0.035558</td>\n",
       "      <td>-0.328451</td>\n",
       "      <td>0.343039</td>\n",
       "      <td>mattress</td>\n",
       "      <td>0.036555</td>\n",
       "      <td>0.009993</td>\n",
       "      <td>NaN</td>\n",
       "      <td>0</td>\n",
       "    </tr>\n",
       "    <tr>\n",
       "      <td>4</td>\n",
       "      <td>0.056541</td>\n",
       "      <td>0.074421</td>\n",
       "      <td>-0.023063</td>\n",
       "      <td>-0.515041</td>\n",
       "      <td>0.520901</td>\n",
       "      <td>mattress</td>\n",
       "      <td>0.046548</td>\n",
       "      <td>0.009993</td>\n",
       "      <td>NaN</td>\n",
       "      <td>0</td>\n",
       "    </tr>\n",
       "  </tbody>\n",
       "</table>\n",
       "</div>"
      ],
      "text/plain": [
       "   Time (s)  Acceleration x (m/s^2)  Acceleration y (m/s^2)  \\\n",
       "0  0.016569               -0.079748               -0.011341   \n",
       "1  0.026562               -0.009065               -0.054324   \n",
       "2  0.036555                0.080083               -0.027440   \n",
       "3  0.046548                0.092367               -0.035558   \n",
       "4  0.056541                0.074421               -0.023063   \n",
       "\n",
       "   Acceleration z (m/s^2)  Absolute acceleration (m/s^2)    object  prev_time  \\\n",
       "0                1.189440                       1.192164  mattress        NaN   \n",
       "1                1.198593                       1.199857  mattress   0.016569   \n",
       "2                0.352316                       0.362343  mattress   0.026562   \n",
       "3               -0.328451                       0.343039  mattress   0.036555   \n",
       "4               -0.515041                       0.520901  mattress   0.046548   \n",
       "\n",
       "   time_delta  rolling_stdev  is_compression  \n",
       "0         NaN            NaN               0  \n",
       "1    0.009993            NaN               0  \n",
       "2    0.009993            NaN               0  \n",
       "3    0.009993            NaN               0  \n",
       "4    0.009993            NaN               0  "
      ]
     },
     "execution_count": 3,
     "metadata": {},
     "output_type": "execute_result"
    }
   ],
   "source": [
    "df.head()"
   ]
  },
  {
   "cell_type": "code",
   "execution_count": 7,
   "metadata": {},
   "outputs": [
    {
     "data": {
      "text/plain": [
       "0    0.989319\n",
       "1    0.010681\n",
       "Name: is_compression, dtype: float64"
      ]
     },
     "execution_count": 7,
     "metadata": {},
     "output_type": "execute_result"
    }
   ],
   "source": [
    "# Label balance\n",
    "df['is_compression'].value_counts(normalize=True)"
   ]
  },
  {
   "cell_type": "markdown",
   "metadata": {},
   "source": [
    "## When modeling, it's important to think about how this model will be used in a production setting. Model results will need to be quick. Therefore, it would be best for us to use an existing sensor reading rather than building a new one."
   ]
  },
  {
   "cell_type": "code",
   "execution_count": 5,
   "metadata": {},
   "outputs": [
    {
     "name": "stderr",
     "output_type": "stream",
     "text": [
      "[Parallel(n_jobs=-1)]: Using backend ThreadingBackend with 10 concurrent workers.\n",
      "[Parallel(n_jobs=-1)]: Done  30 tasks      | elapsed:    0.3s\n",
      "[Parallel(n_jobs=-1)]: Done 180 tasks      | elapsed:    1.5s\n",
      "[Parallel(n_jobs=-1)]: Done 200 out of 200 | elapsed:    1.7s finished\n",
      "[Parallel(n_jobs=10)]: Using backend ThreadingBackend with 10 concurrent workers.\n",
      "[Parallel(n_jobs=10)]: Done  30 tasks      | elapsed:    0.0s\n",
      "[Parallel(n_jobs=10)]: Done 180 tasks      | elapsed:    0.1s\n",
      "[Parallel(n_jobs=10)]: Done 200 out of 200 | elapsed:    0.1s finished\n"
     ]
    }
   ],
   "source": [
    "# Select features and target\n",
    "X = df[['Acceleration x (m/s^2)', 'Acceleration y (m/s^2)', 'Acceleration z (m/s^2)', 'Absolute acceleration (m/s^2)']]\n",
    "y = df['is_compression']\n",
    "\n",
    "# Split the data into training and test sets\n",
    "X_train, X_test, y_train, y_test = train_test_split(X, y, test_size=0.2, random_state=42)\n",
    "\n",
    "# Initialize the model\n",
    "model = RandomForestClassifier(n_estimators=200, \n",
    "                               random_state = 11,\n",
    "                               n_jobs=-1, \n",
    "                               class_weight = 'balanced',\n",
    "                               verbose=True, \n",
    "                               max_depth=10,\n",
    "                               min_samples_leaf=1)\n",
    "\n",
    "\n",
    "# Train the model\n",
    "model.fit(X_train, y_train)\n",
    "\n",
    "# Make predictions\n",
    "y_pred = model.predict(X_test)"
   ]
  },
  {
   "cell_type": "markdown",
   "metadata": {},
   "source": [
    "### Model Metrics"
   ]
  },
  {
   "cell_type": "code",
   "execution_count": 6,
   "metadata": {},
   "outputs": [
    {
     "name": "stderr",
     "output_type": "stream",
     "text": [
      "[Parallel(n_jobs=10)]: Using backend ThreadingBackend with 10 concurrent workers.\n",
      "[Parallel(n_jobs=10)]: Done  30 tasks      | elapsed:    0.0s\n",
      "[Parallel(n_jobs=10)]: Done 180 tasks      | elapsed:    0.1s\n",
      "[Parallel(n_jobs=10)]: Done 200 out of 200 | elapsed:    0.1s finished\n",
      "[Parallel(n_jobs=10)]: Using backend ThreadingBackend with 10 concurrent workers.\n",
      "[Parallel(n_jobs=10)]: Done  30 tasks      | elapsed:    0.0s\n",
      "[Parallel(n_jobs=10)]: Done 180 tasks      | elapsed:    0.1s\n",
      "[Parallel(n_jobs=10)]: Done 200 out of 200 | elapsed:    0.1s finished\n"
     ]
    },
    {
     "data": {
      "text/html": [
       "<div>\n",
       "<style scoped>\n",
       "    .dataframe tbody tr th:only-of-type {\n",
       "        vertical-align: middle;\n",
       "    }\n",
       "\n",
       "    .dataframe tbody tr th {\n",
       "        vertical-align: top;\n",
       "    }\n",
       "\n",
       "    .dataframe thead th {\n",
       "        text-align: right;\n",
       "    }\n",
       "</style>\n",
       "<table border=\"1\" class=\"dataframe\">\n",
       "  <thead>\n",
       "    <tr style=\"text-align: right;\">\n",
       "      <th></th>\n",
       "      <th>accuracy</th>\n",
       "      <th>precision</th>\n",
       "      <th>recall</th>\n",
       "      <th>f1</th>\n",
       "      <th>roc_auc</th>\n",
       "      <th>tpr</th>\n",
       "      <th>tnr</th>\n",
       "      <th>1-fpr</th>\n",
       "      <th>1-fnr</th>\n",
       "      <th>brier_gain</th>\n",
       "      <th>1-ks</th>\n",
       "      <th>lift_statistic</th>\n",
       "    </tr>\n",
       "  </thead>\n",
       "  <tbody>\n",
       "    <tr>\n",
       "      <td>0</td>\n",
       "      <td>0.993114</td>\n",
       "      <td>0.638587</td>\n",
       "      <td>0.943775</td>\n",
       "      <td>0.76175</td>\n",
       "      <td>0.998479</td>\n",
       "      <td>0.943775</td>\n",
       "      <td>0.993696</td>\n",
       "      <td>0.993696</td>\n",
       "      <td>0.943775</td>\n",
       "      <td>0.994881</td>\n",
       "      <td>0.866037</td>\n",
       "      <td>0.910622</td>\n",
       "    </tr>\n",
       "  </tbody>\n",
       "</table>\n",
       "</div>"
      ],
      "text/plain": [
       "   accuracy  precision    recall       f1   roc_auc       tpr       tnr  \\\n",
       "0  0.993114   0.638587  0.943775  0.76175  0.998479  0.943775  0.993696   \n",
       "\n",
       "      1-fpr     1-fnr  brier_gain      1-ks  lift_statistic  \n",
       "0  0.993696  0.943775    0.994881  0.866037        0.910622  "
      ]
     },
     "execution_count": 6,
     "metadata": {},
     "output_type": "execute_result"
    }
   ],
   "source": [
    "# Make sure the model isn't overfitting the training data\n",
    "rf_train_prob = model.predict_proba(X_train)[:, 1]\n",
    "rf_test_prob = model.predict_proba(X_test)[:, 1]\n",
    "\n",
    "### Get Model Stats:\n",
    "# Get test metrics\n",
    "rf_test_pred = rf_test_prob > 0.5\n",
    "util.model_stats(y_train, rf_train_prob, y_test, rf_test_prob, rf_test_pred)"
   ]
  },
  {
   "cell_type": "markdown",
   "metadata": {},
   "source": [
    "### Grid search"
   ]
  },
  {
   "cell_type": "code",
   "execution_count": 8,
   "metadata": {},
   "outputs": [
    {
     "name": "stdout",
     "output_type": "stream",
     "text": [
      "defining the model\n",
      "Fitting 5 folds for each of 6 candidates, totalling 30 fits\n",
      "[CV] END .learning_rate=0.1, max_depth=3, scale_pos_weight=3; total time=   3.9s\n",
      "[CV] END .learning_rate=0.1, max_depth=3, scale_pos_weight=3; total time=   3.6s\n",
      "[CV] END .learning_rate=0.1, max_depth=3, scale_pos_weight=3; total time=   3.5s\n",
      "[CV] END .learning_rate=0.1, max_depth=3, scale_pos_weight=3; total time=   3.8s\n",
      "[CV] END .learning_rate=0.1, max_depth=3, scale_pos_weight=3; total time=   3.7s\n",
      "[CV] END .learning_rate=0.1, max_depth=3, scale_pos_weight=5; total time=   3.6s\n",
      "[CV] END .learning_rate=0.1, max_depth=3, scale_pos_weight=5; total time=   3.7s\n",
      "[CV] END .learning_rate=0.1, max_depth=3, scale_pos_weight=5; total time=   3.6s\n",
      "[CV] END .learning_rate=0.1, max_depth=3, scale_pos_weight=5; total time=   3.7s\n",
      "[CV] END .learning_rate=0.1, max_depth=3, scale_pos_weight=5; total time=   3.8s\n",
      "[CV] END .learning_rate=0.1, max_depth=5, scale_pos_weight=3; total time=   5.6s\n",
      "[CV] END .learning_rate=0.1, max_depth=5, scale_pos_weight=3; total time=   5.4s\n",
      "[CV] END .learning_rate=0.1, max_depth=5, scale_pos_weight=3; total time=   5.5s\n",
      "[CV] END .learning_rate=0.1, max_depth=5, scale_pos_weight=3; total time=   5.7s\n",
      "[CV] END .learning_rate=0.1, max_depth=5, scale_pos_weight=3; total time=   5.4s\n",
      "[CV] END .learning_rate=0.1, max_depth=5, scale_pos_weight=5; total time=   5.5s\n",
      "[CV] END .learning_rate=0.1, max_depth=5, scale_pos_weight=5; total time=   5.4s\n",
      "[CV] END .learning_rate=0.1, max_depth=5, scale_pos_weight=5; total time=   5.5s\n",
      "[CV] END .learning_rate=0.1, max_depth=5, scale_pos_weight=5; total time=   5.6s\n",
      "[CV] END .learning_rate=0.1, max_depth=5, scale_pos_weight=5; total time=   5.4s\n",
      "[CV] END .learning_rate=0.1, max_depth=7, scale_pos_weight=3; total time=   7.1s\n",
      "[CV] END .learning_rate=0.1, max_depth=7, scale_pos_weight=3; total time=   7.1s\n",
      "[CV] END .learning_rate=0.1, max_depth=7, scale_pos_weight=3; total time=   6.9s\n",
      "[CV] END .learning_rate=0.1, max_depth=7, scale_pos_weight=3; total time=   6.9s\n",
      "[CV] END .learning_rate=0.1, max_depth=7, scale_pos_weight=3; total time=   6.9s\n",
      "[CV] END .learning_rate=0.1, max_depth=7, scale_pos_weight=5; total time=   7.3s\n",
      "[CV] END .learning_rate=0.1, max_depth=7, scale_pos_weight=5; total time=   7.0s\n",
      "[CV] END .learning_rate=0.1, max_depth=7, scale_pos_weight=5; total time=   6.8s\n",
      "[CV] END .learning_rate=0.1, max_depth=7, scale_pos_weight=5; total time=   7.1s\n",
      "[CV] END .learning_rate=0.1, max_depth=7, scale_pos_weight=5; total time=   6.9s\n",
      "CPU times: user 20min 51s, sys: 2min 58s, total: 23min 49s\n",
      "Wall time: 2min 46s\n"
     ]
    }
   ],
   "source": [
    "grid_search = True\n",
    "\n",
    "if grid_search:\n",
    "    # specify parameters and distributions to sample from\n",
    "    param_list = {\"max_depth\": [3,5,7],\n",
    "                  \"learning_rate\": [0.1],\n",
    "                  \"scale_pos_weight\": [3, 5]\n",
    "                 }\n",
    "\n",
    "    print(\"defining the model\")\n",
    "    # run randomized search\n",
    "    model = XGBClassifier(n_estimators = 375,\n",
    "                          n_jobs = -1,\n",
    "                          silent = False)\n",
    "\n",
    "    # running the grid search\n",
    "    xgb = GridSearchCV(model, param_list, scoring = \"f1\",verbose=2)\n",
    "    %time xgb.fit(X_train, y_train)\n",
    "\n",
    "else:\n",
    "    xgb = XGBClassifier(n_estimators = 375,\n",
    "                          n_jobs = -1,\n",
    "                          silent = True,\n",
    "                          max_depth = 3,\n",
    "                          learning_rate = 0.1,\n",
    "                          scale_pos_weight = 3\n",
    "                         )\n",
    "\n",
    "    print(\"Fitting the model\")\n",
    "    xgb.fit(X_train, y_train)"
   ]
  },
  {
   "cell_type": "code",
   "execution_count": 9,
   "metadata": {},
   "outputs": [
    {
     "data": {
      "text/plain": [
       "{'learning_rate': 0.1, 'max_depth': 3, 'scale_pos_weight': 3}"
      ]
     },
     "execution_count": 9,
     "metadata": {},
     "output_type": "execute_result"
    }
   ],
   "source": [
    "xgb.best_params_"
   ]
  },
  {
   "cell_type": "code",
   "execution_count": 10,
   "metadata": {},
   "outputs": [
    {
     "data": {
      "text/html": [
       "<div>\n",
       "<style scoped>\n",
       "    .dataframe tbody tr th:only-of-type {\n",
       "        vertical-align: middle;\n",
       "    }\n",
       "\n",
       "    .dataframe tbody tr th {\n",
       "        vertical-align: top;\n",
       "    }\n",
       "\n",
       "    .dataframe thead th {\n",
       "        text-align: right;\n",
       "    }\n",
       "</style>\n",
       "<table border=\"1\" class=\"dataframe\">\n",
       "  <thead>\n",
       "    <tr style=\"text-align: right;\">\n",
       "      <th></th>\n",
       "      <th>accuracy</th>\n",
       "      <th>precision</th>\n",
       "      <th>recall</th>\n",
       "      <th>f1</th>\n",
       "      <th>roc_auc</th>\n",
       "      <th>tpr</th>\n",
       "      <th>tnr</th>\n",
       "      <th>1-fpr</th>\n",
       "      <th>1-fnr</th>\n",
       "      <th>brier_gain</th>\n",
       "      <th>1-ks</th>\n",
       "      <th>lift_statistic</th>\n",
       "    </tr>\n",
       "  </thead>\n",
       "  <tbody>\n",
       "    <tr>\n",
       "      <td>0</td>\n",
       "      <td>0.996768</td>\n",
       "      <td>0.833333</td>\n",
       "      <td>0.903614</td>\n",
       "      <td>0.867052</td>\n",
       "      <td>0.999144</td>\n",
       "      <td>0.903614</td>\n",
       "      <td>0.997867</td>\n",
       "      <td>0.997867</td>\n",
       "      <td>0.903614</td>\n",
       "      <td>0.997496</td>\n",
       "      <td>0.902695</td>\n",
       "      <td>0.910622</td>\n",
       "    </tr>\n",
       "  </tbody>\n",
       "</table>\n",
       "</div>"
      ],
      "text/plain": [
       "   accuracy  precision    recall        f1   roc_auc       tpr       tnr  \\\n",
       "0  0.996768   0.833333  0.903614  0.867052  0.999144  0.903614  0.997867   \n",
       "\n",
       "      1-fpr     1-fnr  brier_gain      1-ks  lift_statistic  \n",
       "0  0.997867  0.903614    0.997496  0.902695        0.910622  "
      ]
     },
     "execution_count": 10,
     "metadata": {},
     "output_type": "execute_result"
    }
   ],
   "source": [
    "# Make sure the model isn't overfitting the training data\n",
    "xgb_train_prob = xgb.predict_proba(X_train)[:, 1]\n",
    "xgb_test_prob = xgb.predict_proba(X_test)[:, 1]\n",
    "\n",
    "### Get Model Stats:\n",
    "# Get test metrics\n",
    "xgb_test_pred = xgb_test_prob > 0.5\n",
    "util.model_stats(y_train, xgb_train_prob, y_test, xgb_test_prob, xgb_test_pred)"
   ]
  },
  {
   "cell_type": "code",
   "execution_count": 11,
   "metadata": {},
   "outputs": [
    {
     "data": {
      "image/png": "[encoded data removed]",
      "text/plain": [
       "<Figure size 720x576 with 1 Axes>"
      ]
     },
     "metadata": {},
     "output_type": "display_data"
    }
   ],
   "source": [
    "util.make_ks_plot(y_train,xgb_train_prob,y_test,xgb_test_prob,label='is_compression')"
   ]
  },
  {
   "cell_type": "code",
   "execution_count": null,
   "metadata": {},
   "outputs": [],
   "source": []
  }
 ],
 "metadata": {
  "kernelspec": {
   "display_name": "Python 3",
   "language": "python",
   "name": "python3"
  },
  "language_info": {
   "codemirror_mode": {
    "name": "ipython",
    "version": 3
   },
   "file_extension": ".py",
   "mimetype": "text/x-python",
   "name": "python",
   "nbconvert_exporter": "python",
   "pygments_lexer": "ipython3",
   "version": "3.6.3"
  }
 },
 "nbformat": 4,
 "nbformat_minor": 4
}
